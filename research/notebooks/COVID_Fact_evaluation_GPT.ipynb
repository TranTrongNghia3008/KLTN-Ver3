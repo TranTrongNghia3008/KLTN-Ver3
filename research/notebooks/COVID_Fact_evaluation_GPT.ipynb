{
 "cells": [
  {
   "cell_type": "code",
   "execution_count": 2,
   "id": "de535482",
   "metadata": {},
   "outputs": [],
   "source": [
    "import os\n",
    "from dotenv import load_dotenv\n",
    "from openai import OpenAI\n",
    "from pydantic import BaseModel\n",
    "\n",
    "load_dotenv(dotenv_path=\"../.env\")\n",
    "OPENAI_API_KEY = os.getenv(\"OPENAI_API_KEY\")\n",
    "client = OpenAI(\n",
    "    api_key = OPENAI_API_KEY,\n",
    ")"
   ]
  },
  {
   "cell_type": "code",
   "execution_count": 7,
   "id": "0d51efce",
   "metadata": {},
   "outputs": [
    {
     "data": {
      "text/html": [
       "<div>\n",
       "<style scoped>\n",
       "    .dataframe tbody tr th:only-of-type {\n",
       "        vertical-align: middle;\n",
       "    }\n",
       "\n",
       "    .dataframe tbody tr th {\n",
       "        vertical-align: top;\n",
       "    }\n",
       "\n",
       "    .dataframe thead th {\n",
       "        text-align: right;\n",
       "    }\n",
       "</style>\n",
       "<table border=\"1\" class=\"dataframe\">\n",
       "  <thead>\n",
       "    <tr style=\"text-align: right;\">\n",
       "      <th></th>\n",
       "      <th>index</th>\n",
       "      <th>sentence1</th>\n",
       "      <th>Sentence2</th>\n",
       "      <th>label</th>\n",
       "    </tr>\n",
       "  </thead>\n",
       "  <tbody>\n",
       "    <tr>\n",
       "      <th>0</th>\n",
       "      <td>0</td>\n",
       "      <td>While each surrogate virus exhibited subtle di...</td>\n",
       "      <td>Measuring sars-cov-2 neutralizing antibody act...</td>\n",
       "      <td>entailment</td>\n",
       "    </tr>\n",
       "    <tr>\n",
       "      <th>1</th>\n",
       "      <td>1</td>\n",
       "      <td>While each surrogate virus exhibited subtle di...</td>\n",
       "      <td>Measuring chs-cov-2 neutralizing antibody acti...</td>\n",
       "      <td>not_entailment</td>\n",
       "    </tr>\n",
       "    <tr>\n",
       "      <th>2</th>\n",
       "      <td>2</td>\n",
       "      <td>While each surrogate virus exhibited subtle di...</td>\n",
       "      <td>Measuring aces-cov-2 neutralizing antibody act...</td>\n",
       "      <td>not_entailment</td>\n",
       "    </tr>\n",
       "    <tr>\n",
       "      <th>3</th>\n",
       "      <td>3</td>\n",
       "      <td>While each surrogate virus exhibited subtle di...</td>\n",
       "      <td>Measuring gps-cov-2 neutralizing antibody acti...</td>\n",
       "      <td>not_entailment</td>\n",
       "    </tr>\n",
       "    <tr>\n",
       "      <th>4</th>\n",
       "      <td>4</td>\n",
       "      <td>IgG titers in SARS-CoV-infected healthcare wor...</td>\n",
       "      <td>Long-term persistence of igg antibodies in sar...</td>\n",
       "      <td>entailment</td>\n",
       "    </tr>\n",
       "  </tbody>\n",
       "</table>\n",
       "</div>"
      ],
      "text/plain": [
       "   index                                          sentence1  \\\n",
       "0      0  While each surrogate virus exhibited subtle di...   \n",
       "1      1  While each surrogate virus exhibited subtle di...   \n",
       "2      2  While each surrogate virus exhibited subtle di...   \n",
       "3      3  While each surrogate virus exhibited subtle di...   \n",
       "4      4  IgG titers in SARS-CoV-infected healthcare wor...   \n",
       "\n",
       "                                           Sentence2           label  \n",
       "0  Measuring sars-cov-2 neutralizing antibody act...      entailment  \n",
       "1  Measuring chs-cov-2 neutralizing antibody acti...  not_entailment  \n",
       "2  Measuring aces-cov-2 neutralizing antibody act...  not_entailment  \n",
       "3  Measuring gps-cov-2 neutralizing antibody acti...  not_entailment  \n",
       "4  Long-term persistence of igg antibodies in sar...      entailment  "
      ]
     },
     "execution_count": 7,
     "metadata": {},
     "output_type": "execute_result"
    }
   ],
   "source": [
    "import pandas as pd\n",
    "df = pd.read_csv(\"../data/COVID-Fact/test1.tsv\", sep=\"\\t\")\n",
    "df"
   ]
  },
  {
   "cell_type": "code",
   "execution_count": null,
   "id": "7343ba47",
   "metadata": {},
   "outputs": [
    {
     "name": "stdout",
     "output_type": "stream",
     "text": [
      "Done! Predictions saved to results.tsv\n"
     ]
    }
   ],
   "source": [
    "from pydantic import BaseModel\n",
    "\n",
    "class FactLabel(BaseModel):\n",
    "    label: str\n",
    "\n",
    "results = []\n",
    "\n",
    "for _, row in df.iterrows():\n",
    "    text = row[\"Sentence2\"]\n",
    "\n",
    "    # Gọi API model\n",
    "    response = client.responses.parse(\n",
    "        model=\"gpt-4o-mini\",\n",
    "        input=[\n",
    "            {\n",
    "                \"role\": \"system\",\n",
    "                \"content\": (\n",
    "                    \"You are an information verification system. \"\n",
    "                    \"Given a statement, determine whether it is SUPPORTED or REFUTED \"\n",
    "                    \"based on scientific evidence and general knowledge. \"\n",
    "                    \"Output exactly one word: 'SUPPORTED' or 'REFUTED'.\"\n",
    "                ),\n",
    "            },\n",
    "            {\n",
    "                \"role\": \"user\",\n",
    "                \"content\": text,\n",
    "            },\n",
    "        ],\n",
    "        text_format=FactLabel,\n",
    "    )\n",
    "\n",
    "    predicted_label = response.output_parsed.label\n",
    "    results.append(predicted_label)\n",
    "\n",
    "    # Ghi kết quả ngay lập tức vào file\n",
    "    row_result = row.to_dict()\n",
    "    row_result[\"predicted_label\"] = predicted_label\n",
    "    pd.DataFrame([row_result]).to_csv(\n",
    "        \"results_evaluation_GPT.tsv\", sep=\"\\t\", mode=\"a\", index=False, header=not bool(_)\n",
    "    )\n",
    "\n",
    "print(\"Done! Predictions saved to results_evaluation_GPT.tsv\")\n"
   ]
  },
  {
   "cell_type": "code",
   "execution_count": null,
   "id": "c9560a1e",
   "metadata": {},
   "outputs": [
    {
     "name": "stdout",
     "output_type": "stream",
     "text": [
      "              precision    recall  f1-score   support\n",
      "\n",
      "   SUPPORTED       0.40      1.00      0.57         2\n",
      "     REFUTED       0.00      0.00      0.00         3\n",
      "\n",
      "    accuracy                           0.40         5\n",
      "   macro avg       0.20      0.50      0.29         5\n",
      "weighted avg       0.16      0.40      0.23         5\n",
      "\n",
      "\n",
      "Confusion Matrix:\n",
      "                Pred_SUPPORTED  Pred_REFUTED\n",
      "True_SUPPORTED               2             0\n",
      "True_REFUTED                 3             0\n"
     ]
    },
    {
     "name": "stderr",
     "output_type": "stream",
     "text": [
      "d:\\LopHoc\\Thesis\\Ver3\\code\\KLTN-Ver3\\research\\myenv\\Lib\\site-packages\\sklearn\\metrics\\_classification.py:1706: UndefinedMetricWarning: Precision is ill-defined and being set to 0.0 in labels with no predicted samples. Use `zero_division` parameter to control this behavior.\n",
      "  _warn_prf(average, modifier, f\"{metric.capitalize()} is\", result.shape[0])\n",
      "d:\\LopHoc\\Thesis\\Ver3\\code\\KLTN-Ver3\\research\\myenv\\Lib\\site-packages\\sklearn\\metrics\\_classification.py:1706: UndefinedMetricWarning: Precision is ill-defined and being set to 0.0 in labels with no predicted samples. Use `zero_division` parameter to control this behavior.\n",
      "  _warn_prf(average, modifier, f\"{metric.capitalize()} is\", result.shape[0])\n",
      "d:\\LopHoc\\Thesis\\Ver3\\code\\KLTN-Ver3\\research\\myenv\\Lib\\site-packages\\sklearn\\metrics\\_classification.py:1706: UndefinedMetricWarning: Precision is ill-defined and being set to 0.0 in labels with no predicted samples. Use `zero_division` parameter to control this behavior.\n",
      "  _warn_prf(average, modifier, f\"{metric.capitalize()} is\", result.shape[0])\n"
     ]
    }
   ],
   "source": [
    "import pandas as pd\n",
    "from sklearn.metrics import classification_report, confusion_matrix\n",
    "\n",
    "# Đọc file kết quả đã lưu\n",
    "df = pd.read_csv(\"results_evaluation_GPT.tsv\", sep=\"\\t\")\n",
    "\n",
    "# Map label test sang format dự đoán\n",
    "label_map = {\n",
    "    \"entailment\": \"SUPPORTED\",\n",
    "    \"not_entailment\": \"REFUTED\"\n",
    "}\n",
    "df[\"true_label_mapped\"] = df[\"label\"].map(label_map)\n",
    "\n",
    "# Lấy danh sách để đánh giá\n",
    "y_true = df[\"true_label_mapped\"]\n",
    "y_pred = df[\"predicted_label\"]\n",
    "\n",
    "# Bảng đánh giá chi tiết\n",
    "report = classification_report(y_true, y_pred, labels=[\"SUPPORTED\", \"REFUTED\"])\n",
    "print(report)\n"
   ]
  }
 ],
 "metadata": {
  "kernelspec": {
   "display_name": "myenv",
   "language": "python",
   "name": "python3"
  },
  "language_info": {
   "codemirror_mode": {
    "name": "ipython",
    "version": 3
   },
   "file_extension": ".py",
   "mimetype": "text/x-python",
   "name": "python",
   "nbconvert_exporter": "python",
   "pygments_lexer": "ipython3",
   "version": "3.11.2"
  }
 },
 "nbformat": 4,
 "nbformat_minor": 5
}
